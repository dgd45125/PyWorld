{
 "cells": [
  {
   "cell_type": "markdown",
   "metadata": {},
   "source": [
    "# Py-World\n",
    "    - Donald Dunagan\n",
    "    - 811-648-053\n",
    "    - 11 November 2018\n",
    "    \n",
    "    8ish hours"
   ]
  },
  {
   "cell_type": "markdown",
   "metadata": {},
   "source": [
    "#### Imports"
   ]
  },
  {
   "cell_type": "code",
   "execution_count": 1,
   "metadata": {},
   "outputs": [
    {
     "name": "stdout",
     "output_type": "stream",
     "text": [
      "pygame 1.9.4\n",
      "Hello from the pygame community. https://www.pygame.org/contribute.html\n"
     ]
    }
   ],
   "source": [
    "#imports\n",
    "import pygame\n",
    "import tcod\n",
    "import time\n",
    "import random"
   ]
  },
  {
   "cell_type": "markdown",
   "metadata": {},
   "source": [
    "### Stuff"
   ]
  },
  {
   "cell_type": "code",
   "execution_count": null,
   "metadata": {},
   "outputs": [],
   "source": []
  },
  {
   "cell_type": "markdown",
   "metadata": {},
   "source": [
    "### Constants"
   ]
  },
  {
   "cell_type": "code",
   "execution_count": 2,
   "metadata": {},
   "outputs": [],
   "source": [
    "#game sizes\n",
    "GAME_WIDTH = 480\n",
    "GAME_HEIGHT =320\n",
    "CELL_WIDTH = 16\n",
    "CELL_HEIGHT = 16\n",
    "\n",
    "#definitions for colors\n",
    "BLACK_COLOR = (0,0,0)\n",
    "WHITE_COLOR = (255,255,255,)\n",
    "GRAY_COLOR = (127,127,127)\n",
    "\n",
    "#colors for game\n",
    "BAKGROUND_COLOR = GRAY_COLOR\n",
    "\n",
    "#map size\n",
    "MAP_WIDTH = 30\n",
    "MAP_HEIGHT = 20\n",
    "\n",
    "#sprites\n",
    "KNIGHT = pygame.image.load(\"C:\\\\Users\\\\gray\\\\Desktop\\\\AI\\\\Game\\\\PyWorld\\\\character_images\\\\knight.png\")\n",
    "ROGUE = pygame.image.load(\"C:\\\\Users\\\\gray\\\\Desktop\\\\AI\\\\Game\\\\PyWorld\\\\character_images\\\\rogue.png\")\n",
    "ORC = pygame.image.load(\"C:\\\\Users\\\\gray\\\\Desktop\\\\AI\\\\Game\\\\PyWorld\\\\character_images\\\\orc.png\")\n",
    "\n",
    "#map tiles\n",
    "GRASSY_TILE = pygame.image.load(\"C:\\\\Users\\\\gray\\\\Desktop\\\\AI\\\\Game\\\\PyWorld\\\\tile_images\\\\grassy_tile.png\")\n",
    "TREE = pygame.image.load(\"C:\\\\Users\\\\gray\\\\Desktop\\\\AI\\\\Game\\\\PyWorld\\\\tile_images\\\\tree.png\")\n",
    "\n",
    "#FPS limit\n",
    "GAME_FPS = 60\n",
    "\n",
    "#message defaults\n",
    "NUM_MESSAGES = 4"
   ]
  },
  {
   "cell_type": "markdown",
   "metadata": {},
   "source": [
    "### Structures"
   ]
  },
  {
   "cell_type": "code",
   "execution_count": 3,
   "metadata": {},
   "outputs": [],
   "source": [
    "class Struc_Tile:\n",
    "    def __init__(self, blocks_path):\n",
    "        self.blocks_path = blocks_path"
   ]
  },
  {
   "cell_type": "markdown",
   "metadata": {},
   "source": [
    "### Objects"
   ]
  },
  {
   "cell_type": "code",
   "execution_count": 4,
   "metadata": {},
   "outputs": [],
   "source": [
    "class obj_Actor:\n",
    "    def __init__(self, x, y, name_object, sprite, creature=None, ai =None):\n",
    "        #map x address, not pixel address\n",
    "        self.x = x\n",
    "        #map y address, not pixel address\n",
    "        self.y = y\n",
    "        self.sprite = sprite\n",
    "        \n",
    "        self.creature =creature\n",
    "        if creature:\n",
    "            creature.owner = self\n",
    "        \n",
    "        self.ai = ai\n",
    "        if ai:\n",
    "            ai.owner = self\n",
    "    \n",
    "    def draw(self):\n",
    "        #draw the sprite\n",
    "        MAIN_SURFACE.blit(self.sprite, (self.x*CELL_WIDTH,self.y*CELL_HEIGHT)) \n",
    "        \n"
   ]
  },
  {
   "cell_type": "markdown",
   "metadata": {},
   "source": [
    "### Components"
   ]
  },
  {
   "cell_type": "code",
   "execution_count": 5,
   "metadata": {},
   "outputs": [],
   "source": [
    "#components make up larger objects\n",
    "\n",
    "class com_Creature:\n",
    "    '''\n",
    "    creatures have health.\n",
    "    creatures can damage the heros.\n",
    "    craetures can die.\n",
    "    '''\n",
    "    def __init__(self,name_instance, hp = 10, death_function=None ):\n",
    "        self.name_instance = name_instance\n",
    "        self.max_hp = hp\n",
    "        self.hp = hp\n",
    "        self.death_function = death_function\n",
    "        \n",
    "        \n",
    "    def move(self, deltaX, deltaY):\n",
    "        #boolean for whether a tile is a tree or not\n",
    "        tile_is_tree = (GAME_MAP[self.owner.x +deltaX][self.owner.y+deltaY].blocks_path == True)\n",
    "\n",
    "        target = map_check_for_creature(self.owner.x +deltaX,self.owner.y+deltaY, self.owner)\n",
    "\n",
    "        if target:\n",
    "            self.attack(target, 3)\n",
    "\n",
    "        if not tile_is_tree and target is None:        \n",
    "            self.owner.x += deltaX\n",
    "            self.owner.y += deltaY  \n",
    "            \n",
    "    def attack(self, target, damage):\n",
    "        game_message(self.name_instance + \" attacks \" +target.creature.name_instance+ \" for \"+str(damage)+\" damage!\",WHITE_COLOR)\n",
    "        target.creature.take_damage(damage)\n",
    "        \n",
    "    def take_damage(self, damage_amount):\n",
    "        self.hp -= damage_amount\n",
    "        game_message (self.name_instance+\"'s health is \"+ str(self.hp)+\"/\"+str(self.max_hp),WHITE_COLOR)\n",
    "        \n",
    "        if self.hp <=0:\n",
    "            if self.death_function is not None:\n",
    "                self.death_function(self.owner)\n",
    "    \n",
    "    \n",
    "#class com_Item:\n",
    "    \n",
    "#class com_Container:"
   ]
  },
  {
   "cell_type": "markdown",
   "metadata": {},
   "source": [
    "### AI"
   ]
  },
  {
   "cell_type": "code",
   "execution_count": 6,
   "metadata": {},
   "outputs": [],
   "source": [
    "class ai_Test:\n",
    "    '''\n",
    "    Once per turn, do something\n",
    "    '''\n",
    "    def take_turn(self):\n",
    "        \n",
    "        #slow things down\n",
    "        #time.sleep(.5)\n",
    "        \n",
    "        #randomely move left, right, up, down, or not at all\n",
    "        randint = random.randint(1,5)\n",
    "        #no move\n",
    "        if (randint ==1):\n",
    "            self.owner.creature.move(0,0)\n",
    "        #move left\n",
    "        if randint == 2:\n",
    "            self.owner.creature.move(-1,0)\n",
    "        #move right\n",
    "        if randint==3:\n",
    "            self.owner.creature.move(1,0)\n",
    "        #move down\n",
    "        if randint == 4:\n",
    "            self.owner.creature.move(0,1)\n",
    "        #move up\n",
    "        if randint==5:\n",
    "            self.owner.creature.move(0,-1)        \n",
    "        \n",
    "        "
   ]
  },
  {
   "cell_type": "markdown",
   "metadata": {},
   "source": [
    "### Death Function"
   ]
  },
  {
   "cell_type": "code",
   "execution_count": 7,
   "metadata": {},
   "outputs": [],
   "source": [
    "def death_monster(monster):\n",
    "    '''\n",
    "    monsters stop moving when dead\n",
    "    '''\n",
    "    game_message(monster.creature.name_instance+\" is dead!\",WHITE_COLOR)\n",
    "    monster.creature = None\n",
    "    monster.ai = None\n",
    "    \n",
    "    return"
   ]
  },
  {
   "cell_type": "markdown",
   "metadata": {},
   "source": [
    "### Map"
   ]
  },
  {
   "cell_type": "code",
   "execution_count": 8,
   "metadata": {},
   "outputs": [],
   "source": [
    "def Create_Map():\n",
    "    \n",
    "    #map has a matrix representation\n",
    "    new_map = [[Struc_Tile(False) for y in range(0,MAP_HEIGHT)]for x in range(0,MAP_WIDTH)]\n",
    "    \n",
    "    #Set boundaries at edge of world so that agents cannot leave\n",
    "    for x in range (MAP_WIDTH):     \n",
    "        new_map[x][0].blocks_path = True\n",
    "        new_map[x][MAP_HEIGHT-1].blocks_path = True\n",
    "    for y in range(MAP_HEIGHT):\n",
    "        new_map[0][y].blocks_path = True\n",
    "        new_map[MAP_WIDTH-1][y].blocks_path = True    \n",
    "        \n",
    "    #generate some trees in middle of map\n",
    "    new_map[7][9].blocks_path = True\n",
    "    new_map[11][4].blocks_path = True\n",
    "    new_map[13][17].blocks_path = True\n",
    "    new_map[19][2].blocks_path = True\n",
    "    new_map[16][12].blocks_path = True\n",
    "    new_map[4][12].blocks_path = True\n",
    "    new_map[3][16].blocks_path = True\n",
    "    new_map[24][8].blocks_path = True\n",
    "    new_map[26][15].blocks_path = True\n",
    "    \n",
    "    return new_map\n",
    "\n",
    "def map_check_for_creature(x, y, exclude_object = None):\n",
    "    \n",
    "    target = None\n",
    "    \n",
    "    #if targettable creature is in location, set it to target\n",
    "    if exclude_object:\n",
    "        for obj in GAME_OBJECTS:\n",
    "            if (obj is not exclude_object and \n",
    "                obj.x == x and \n",
    "                obj.y == y and \n",
    "                obj.creature):\n",
    "                target = obj\n",
    "            if target:\n",
    "                return target\n",
    "    #target any object at location\n",
    "    else:\n",
    "        for obj in GAME_OBJECTS:\n",
    "            if (obj.x == x and \n",
    "                obj.y == y and \n",
    "                obj.creature):\n",
    "                target = obj\n",
    "            if target:\n",
    "                return target"
   ]
  },
  {
   "cell_type": "markdown",
   "metadata": {},
   "source": [
    "### Drawing"
   ]
  },
  {
   "cell_type": "code",
   "execution_count": 9,
   "metadata": {},
   "outputs": [],
   "source": [
    "def Draw_Game():\n",
    "    \n",
    "    global MAIN_SURFACE, GAME_MAP, knight, orc1, orc2, orc3, GAME_OBJECTS\n",
    "    \n",
    "    #clear the surface\n",
    "    MAIN_SURFACE.fill(BAKGROUND_COLOR)\n",
    "    \n",
    "    #draw the map\n",
    "    Draw_Map(GAME_MAP)\n",
    "    \n",
    "    #draw all of the game objects\n",
    "    for obj in GAME_OBJECTS:\n",
    "        obj.draw()\n",
    "    \n",
    "    #draw debug messages\n",
    "    draw_debug()\n",
    "    \n",
    "    #messages\n",
    "    draw_messages()\n",
    "    \n",
    "    #update display\n",
    "    #puts all updates on display\n",
    "    pygame.display.flip()\n",
    "    \n",
    "    \n",
    "    return\n",
    "\n",
    "def Draw_Map(map):\n",
    "    \n",
    "    for x in range(0,MAP_WIDTH):\n",
    "        for y in range(0,MAP_HEIGHT):\n",
    "            if map [x][y].blocks_path == True:\n",
    "                #draw tree\n",
    "                MAIN_SURFACE.blit(TREE,(x*CELL_WIDTH,y*CELL_HEIGHT))\n",
    "            else:\n",
    "                #draw grass\n",
    "                MAIN_SURFACE.blit(GRASSY_TILE,(x*CELL_WIDTH,y*CELL_HEIGHT))\n",
    "    \n",
    "    return\n",
    "\n",
    "def draw_debug():\n",
    "    draw_text(MAIN_SURFACE, \"fps:\"+str(int(CLOCK.get_fps())), (0,0), WHITE_COLOR, BLACK_COLOR)\n",
    "    \n",
    "def draw_messages():\n",
    "    if len(GAME_MESSAGES) <= NUM_MESSAGES: \n",
    "        to_draw = GAME_MESSAGES\n",
    "    else:\n",
    "        to_draw = GAME_MESSAGES[-NUM_MESSAGES:]\n",
    "               \n",
    "    text_height = helper_text_height(FONT_MESSAGE_TEXT)\n",
    "    \n",
    "    start_y = MAP_HEIGHT*CELL_HEIGHT - (NUM_MESSAGES * text_height)\n",
    "    \n",
    "    i = 0\n",
    "    for message, color in to_draw:\n",
    "        draw_text(MAIN_SURFACE, message, (0,start_y + (i*text_height)), WHITE_COLOR, BLACK_COLOR)\n",
    "        i +=1\n",
    "\n",
    "def draw_text(display_surface, text_to_display, T_coords, text_color, back_color = None):\n",
    "    '''\n",
    "    takes text and displays on the given surface\n",
    "    '''\n",
    "    text_surf, text_rect = helper_text_objects(text_to_display, text_color, back_color)\n",
    "    \n",
    "    text_rect.topleft = T_coords\n",
    "    \n",
    "    display_surface.blit(text_surf, text_rect)\n"
   ]
  },
  {
   "cell_type": "markdown",
   "metadata": {},
   "source": [
    "### Helpers"
   ]
  },
  {
   "cell_type": "code",
   "execution_count": 10,
   "metadata": {},
   "outputs": [],
   "source": [
    "def helper_text_objects(incoming_text, incoming_color, incoming_bg):\n",
    "    #renders given text in font and returns rendered text and the surface rectangle    \n",
    "    if (incoming_bg != None):\n",
    "        Text_surface = FONT_DEBUG_MESSAGE.render(incoming_text, False, incoming_color, incoming_bg)\n",
    "    else:\n",
    "        Text_surface = FONT_DEBUG_MESSAGE.render(incoming_text, False, incoming_color)                        \n",
    "        \n",
    "        \n",
    "    return Text_surface, Text_surface.get_rect()\n",
    "\n",
    "def helper_text_height(font):\n",
    "    font_object = font.render('a', False, (0,0,0))\n",
    "    font_rect = font_object.get_rect()\n",
    "    \n",
    "    return font_rect.height"
   ]
  },
  {
   "cell_type": "markdown",
   "metadata": {},
   "source": [
    "### Game Message"
   ]
  },
  {
   "cell_type": "code",
   "execution_count": 11,
   "metadata": {},
   "outputs": [],
   "source": [
    "def game_message(game_msg, msg_color):\n",
    "    \n",
    "    GAME_MESSAGES.append((game_msg, msg_color))    \n",
    "    return"
   ]
  },
  {
   "cell_type": "markdown",
   "metadata": {},
   "source": [
    "### Initialize the Game"
   ]
  },
  {
   "cell_type": "code",
   "execution_count": 12,
   "metadata": {},
   "outputs": [],
   "source": [
    "def Initialize_Game():\n",
    "    '''\n",
    "    initializes game window and pygame    \n",
    "    '''\n",
    "    \n",
    "    #global vars for main surface and for game map\n",
    "    global MAIN_SURFACE, GAME_MAP, knight, orc1, orc2, orc3, GAME_OBJECTS, FONT_DEBUG_MESSAGE, CLOCK, FONT_MESSAGE_TEXT, GAME_MESSAGES\n",
    "    \n",
    "    CLOCK = pygame.time.Clock()\n",
    "      \n",
    "    #initialize pygame\n",
    "    pygame.init()\n",
    "    \n",
    "    #font\n",
    "    #https://www.dafont.com/joystix.font\n",
    "    FONT_DEBUG_MESSAGE = pygame.font.Font(\"C:\\\\Users\\\\gray\\\\Desktop\\\\AI\\\\Game\\\\PyWorld\\\\font\\\\joystix_monospace.ttf\",12)\n",
    "    FONT_MESSAGE_TEXT = pygame.font.Font(\"C:\\\\Users\\\\gray\\\\Desktop\\\\AI\\\\Game\\\\PyWorld\\\\font\\\\joystix_monospace.ttf\",12)\n",
    "    \n",
    "    \n",
    "    #initialize the main surface as GAME_WIDTH x GAME_HEIGHT pixels\n",
    "    MAIN_SURFACE = pygame.display.set_mode((MAP_WIDTH*CELL_WIDTH,MAP_HEIGHT*CELL_HEIGHT))\n",
    "\n",
    "    #generate the game map\n",
    "    GAME_MAP = Create_Map()\n",
    "    \n",
    "    #game messages\n",
    "    GAME_MESSAGES = []\n",
    "\n",
    "    \n",
    "    \n",
    "    #generate knight object\n",
    "    creature_com1 = com_Creature(\"greg\")\n",
    "    #ai_com1 =ai_Test()\n",
    "    knight = obj_Actor(1,1, \"knight\",KNIGHT, \n",
    "                       creature=creature_com1)\n",
    "    \n",
    "    #generate orc1\n",
    "    creature_com2 = com_Creature(\"jackie\",death_function = death_monster)\n",
    "    ai_com2 = ai_Test()\n",
    "    orc1 = obj_Actor(27,3,\"orc1\",ORC, \n",
    "                     creature = creature_com2, \n",
    "                     ai = ai_com2)\n",
    "    '''\n",
    "    #generate orc2\n",
    "    creature_com3 = com_Creature(\"steve\",death_function = death_monster)\n",
    "    ai_com3 = ai_Test()\n",
    "    orc2 = obj_Actor(8,17,\"orc2\",ORC, \n",
    "                     creature = creature_com3, \n",
    "                     ai = ai_com3)\n",
    "    \n",
    "    #generate orc3\n",
    "    creature_com4 = com_Creature(\"geoff\",death_function = death_monster)\n",
    "    ai_com4 = ai_Test()\n",
    "    orc3 = obj_Actor(15,10,\"orc3\",ORC, \n",
    "                     creature = creature_com4, \n",
    "                     ai = ai_com4)\n",
    "    '''\n",
    "\n",
    "\n",
    "    GAME_OBJECTS = [knight, orc1]\n",
    "\n",
    "    \n",
    "    \n",
    "    return"
   ]
  },
  {
   "cell_type": "markdown",
   "metadata": {},
   "source": [
    "### Game Loop"
   ]
  },
  {
   "cell_type": "code",
   "execution_count": 13,
   "metadata": {},
   "outputs": [],
   "source": [
    "def Game_Loop():\n",
    "    '''\n",
    "    runs game loop until the game is over  \n",
    "    '''\n",
    "    \n",
    "    #variable for terminating the game loop\n",
    "    game_over = False\n",
    "    \n",
    "    #player action definition\n",
    "    player_action = \"no-action\"\n",
    "    \n",
    "    while not(game_over):\n",
    "\n",
    "        #time.sleep(5)\n",
    "        \n",
    "        '''\n",
    "        #get input\n",
    "        #list of input (keyboard and mouse) for every frame that is run\n",
    "        event_list = pygame.event.get()\n",
    "\n",
    "        #process input\n",
    "        for event in event_list:\n",
    "\n",
    "            #event = 'click X button' -> quit game\n",
    "            if event.type == pygame.QUIT:\n",
    "                game_over=True \n",
    "                \n",
    "                \n",
    "        for obj in GAME_OBJECTS:\n",
    "            \n",
    "            if obj.ai:\n",
    "                \n",
    "                obj.ai.take_turn()\n",
    "        '''\n",
    "        \n",
    "        \n",
    "        #handle player input\n",
    "        player_action = Game_Handle_Keys()\n",
    "        \n",
    "        if player_action == \"QUIT\":\n",
    "            game_over = True\n",
    "        elif player_action != \"no-action\":\n",
    "            for obj in GAME_OBJECTS:\n",
    "                if obj.ai:\n",
    "                    obj.ai.take_turn()\n",
    "        \n",
    "                \n",
    "        #draw the game\n",
    "        Draw_Game()\n",
    "\n",
    "        CLOCK.tick(GAME_FPS)\n",
    "\n",
    "        \n",
    "        \n",
    "        \n",
    "    #TODO quit the game and cleanup environment\n",
    "    pygame.quit()\n",
    "    #exit()\n",
    "      \n",
    "    return\n"
   ]
  },
  {
   "cell_type": "markdown",
   "metadata": {},
   "source": [
    "### Game Handle Keys"
   ]
  },
  {
   "cell_type": "code",
   "execution_count": 14,
   "metadata": {},
   "outputs": [],
   "source": [
    "def Game_Handle_Keys():\n",
    "    \n",
    "    #get input\n",
    "    #list of input (keyboard and mouse) for every frame that is run\n",
    "    event_list = pygame.event.get()\n",
    "    \n",
    "    #process input\n",
    "    for event in event_list:\n",
    "\n",
    "        #event = 'click X button' -> quit game\n",
    "        if event.type == pygame.QUIT:\n",
    "            return \"QUIT\"\n",
    "        if event.type == pygame.KEYDOWN:\n",
    "            if event.key == pygame.K_UP:\n",
    "                knight.creature.move(0,-1)\n",
    "                return \"player-moved\"\n",
    "            if event.key == pygame.K_DOWN:\n",
    "                knight.creature.move(0,1)\n",
    "                return \"player-moved\"\n",
    "            if event.key == pygame.K_LEFT:\n",
    "                knight.creature.move(-1,0)\n",
    "                return \"player-moved\"\n",
    "            if event.key == pygame.K_RIGHT:\n",
    "                knight.creature.move(1,0)\n",
    "                return \"player-moved\"\n",
    "    return \"no-action\""
   ]
  },
  {
   "cell_type": "markdown",
   "metadata": {},
   "source": [
    "### Stuff"
   ]
  },
  {
   "cell_type": "code",
   "execution_count": null,
   "metadata": {},
   "outputs": [],
   "source": []
  },
  {
   "cell_type": "markdown",
   "metadata": {},
   "source": [
    "### \"main\""
   ]
  },
  {
   "cell_type": "code",
   "execution_count": 15,
   "metadata": {},
   "outputs": [],
   "source": [
    "Initialize_Game()\n",
    "Game_Loop()"
   ]
  },
  {
   "cell_type": "code",
   "execution_count": null,
   "metadata": {},
   "outputs": [],
   "source": []
  },
  {
   "cell_type": "code",
   "execution_count": null,
   "metadata": {},
   "outputs": [],
   "source": []
  },
  {
   "cell_type": "code",
   "execution_count": null,
   "metadata": {},
   "outputs": [],
   "source": []
  },
  {
   "cell_type": "code",
   "execution_count": null,
   "metadata": {},
   "outputs": [],
   "source": []
  },
  {
   "cell_type": "code",
   "execution_count": null,
   "metadata": {},
   "outputs": [],
   "source": []
  },
  {
   "cell_type": "code",
   "execution_count": null,
   "metadata": {},
   "outputs": [],
   "source": []
  },
  {
   "cell_type": "code",
   "execution_count": null,
   "metadata": {},
   "outputs": [],
   "source": []
  },
  {
   "cell_type": "code",
   "execution_count": null,
   "metadata": {},
   "outputs": [],
   "source": []
  },
  {
   "cell_type": "code",
   "execution_count": null,
   "metadata": {},
   "outputs": [],
   "source": []
  }
 ],
 "metadata": {
  "kernelspec": {
   "display_name": "Python 3",
   "language": "python",
   "name": "python3"
  },
  "language_info": {
   "codemirror_mode": {
    "name": "ipython",
    "version": 3
   },
   "file_extension": ".py",
   "mimetype": "text/x-python",
   "name": "python",
   "nbconvert_exporter": "python",
   "pygments_lexer": "ipython3",
   "version": "3.6.5"
  }
 },
 "nbformat": 4,
 "nbformat_minor": 2
}
